{
 "cells": [
  {
   "cell_type": "code",
   "execution_count": 25,
   "metadata": {},
   "outputs": [],
   "source": [
    "import numpy as np\n",
    "import matplotlib.pyplot as plt\n",
    "from sklearn.preprocessing import PolynomialFeatures\n",
    "from sklearn.linear_model import LinearRegression, Ridge, Lasso"
   ]
  },
  {
   "cell_type": "markdown",
   "metadata": {},
   "source": [
    "Different to before, we have now a non-linear dependency between x & y..."
   ]
  },
  {
   "cell_type": "code",
   "execution_count": 26,
   "metadata": {},
   "outputs": [],
   "source": [
    "N = 10\n",
    "\n",
    "X = np.sort(2 * np.random.rand(N, 1), axis=0)\n",
    "y = 4 + 3 * X + 5*X**2 + np.random.randn(N, 1)"
   ]
  },
  {
   "cell_type": "code",
   "execution_count": 27,
   "metadata": {
    "scrolled": true
   },
   "outputs": [
    {
     "name": "stdout",
     "output_type": "stream",
     "text": [
      "[3.82282766] [[3.05769224 4.88708156]]\n"
     ]
    }
   ],
   "source": [
    "poly_features = PolynomialFeatures(degree=2, include_bias=False)\n",
    "X_poly = poly_features.fit_transform(X)\n",
    "lin_reg = LinearRegression()\n",
    "lin_reg.fit(X_poly, y)\n",
    "\n",
    "print(lin_reg.intercept_, lin_reg.coef_)"
   ]
  },
  {
   "cell_type": "markdown",
   "metadata": {},
   "source": [
    "Predicting as before and we see that the fit is quite good"
   ]
  },
  {
   "cell_type": "code",
   "execution_count": 28,
   "metadata": {},
   "outputs": [
    {
     "data": {
      "text/plain": [
       "[<matplotlib.lines.Line2D at 0x7fbb536269b0>,\n",
       " <matplotlib.lines.Line2D at 0x7fbb53709828>]"
      ]
     },
     "execution_count": 28,
     "metadata": {},
     "output_type": "execute_result"
    },
    {
     "data": {
      "image/png": "[encoded data removed]",
      "text/plain": [
       "<Figure size 432x288 with 1 Axes>"
      ]
     },
     "metadata": {
      "needs_background": "light"
     },
     "output_type": "display_data"
    }
   ],
   "source": [
    "ypred = lin_reg.intercept_ + lin_reg.coef_[0][0]*X + lin_reg.coef_[0][1]*X**2\n",
    "plt.plot(X, ypred, '-rx', X, y,'go')"
   ]
  },
  {
   "cell_type": "markdown",
   "metadata": {},
   "source": [
    "Now let's increase the polynom degree to 10 and fit the data"
   ]
  },
  {
   "cell_type": "code",
   "execution_count": 29,
   "metadata": {},
   "outputs": [
    {
     "name": "stdout",
     "output_type": "stream",
     "text": [
      "[-0.93089092] [[   83.26920974  -307.48729194    37.17880145  1960.21886655\n",
      "  -3528.1714859    853.57268372  3232.02643206 -3573.62970375\n",
      "   1476.6472863   -221.88216165]]\n"
     ]
    }
   ],
   "source": [
    "poly_features = PolynomialFeatures(degree=10, include_bias=False)\n",
    "X_poly = poly_features.fit_transform(X)\n",
    "lin_reg = LinearRegression()\n",
    "lin_reg.fit(X_poly, y)\n",
    "\n",
    "print(lin_reg.intercept_, lin_reg.coef_)"
   ]
  },
  {
   "cell_type": "markdown",
   "metadata": {},
   "source": [
    "... and we run into a classical overfitting - look at the coefficient values! However, since polydegree = number of data points, we get a perfect match"
   ]
  },
  {
   "cell_type": "code",
   "execution_count": 30,
   "metadata": {
    "scrolled": true
   },
   "outputs": [
    {
     "data": {
      "text/plain": [
       "[<matplotlib.lines.Line2D at 0x7fbb53610048>,\n",
       " <matplotlib.lines.Line2D at 0x7fbb53626ac8>]"
      ]
     },
     "execution_count": 30,
     "metadata": {},
     "output_type": "execute_result"
    },
    {
     "data": {
      "image/png": "[encoded data removed]",
      "text/plain": [
       "<Figure size 432x288 with 1 Axes>"
      ]
     },
     "metadata": {
      "needs_background": "light"
     },
     "output_type": "display_data"
    }
   ],
   "source": [
    "# ypred = lin_reg.intercept_ + np.sum([lin_reg.coef_[0][i]*X**(i+1) for i in range(10)], axis=0)\n",
    "# simpler\n",
    "ypred = lin_reg.predict(X_poly)\n",
    "plt.plot(X, ypred, '-rx', X, y,'go')"
   ]
  },
  {
   "cell_type": "markdown",
   "metadata": {},
   "source": [
    "Using Ridge regression; loss function = $MSE(\\theta) + \\frac{\\alpha}{2} \\sum_i \\theta_i^2$. The $\\alpha$ value causes the coefficients not to become \"too big\".\n"
   ]
  },
  {
   "cell_type": "code",
   "execution_count": 31,
   "metadata": {},
   "outputs": [
    {
     "data": {
      "text/plain": [
       "array([[ 5.82018935,  2.48504772,  1.20870742,  0.59666879,  0.24197592,\n",
       "         0.01204482, -0.12178263, -0.14464358, -0.04922986,  0.0578896 ]])"
      ]
     },
     "execution_count": 31,
     "metadata": {},
     "output_type": "execute_result"
    }
   ],
   "source": [
    "ridge_reg = Ridge(alpha=1, solver='cholesky',fit_intercept=False)\n",
    "ridge_reg.fit(X_poly,y)\n",
    "ridge_reg.coef_"
   ]
  },
  {
   "cell_type": "markdown",
   "metadata": {},
   "source": [
    "Prediction - The match is worse than before, but less erratic..."
   ]
  },
  {
   "cell_type": "code",
   "execution_count": 32,
   "metadata": {},
   "outputs": [
    {
     "data": {
      "text/plain": [
       "[<matplotlib.lines.Line2D at 0x7fbb53574128>,\n",
       " <matplotlib.lines.Line2D at 0x7fbb53610160>]"
      ]
     },
     "execution_count": 32,
     "metadata": {},
     "output_type": "execute_result"
    },
    {
     "data": {
      "image/png": "[encoded data removed]",
      "text/plain": [
       "<Figure size 432x288 with 1 Axes>"
      ]
     },
     "metadata": {
      "needs_background": "light"
     },
     "output_type": "display_data"
    }
   ],
   "source": [
    "ypred_ridge = ridge_reg.predict(X_poly)\n",
    "plt.plot(X, ypred_ridge, '-rx', X, y,'go')"
   ]
  },
  {
   "cell_type": "code",
   "execution_count": 33,
   "metadata": {},
   "outputs": [
    {
     "name": "stderr",
     "output_type": "stream",
     "text": [
      "/usr/lib/python3.7/site-packages/sklearn/linear_model/coordinate_descent.py:492: ConvergenceWarning: Objective did not converge. You might want to increase the number of iterations. Fitting data with very small alpha may cause precision problems.\n",
      "  ConvergenceWarning)\n"
     ]
    },
    {
     "data": {
      "text/plain": [
       "array([ 6.20183134e+00,  0.00000000e+00,  0.00000000e+00,  5.35087049e-01,\n",
       "        4.00516010e-01,  4.44738364e-02,  0.00000000e+00,  0.00000000e+00,\n",
       "       -8.48543294e-03, -5.62844575e-03])"
      ]
     },
     "execution_count": 33,
     "metadata": {},
     "output_type": "execute_result"
    }
   ],
   "source": [
    "lasso_reg = Lasso(alpha=0.1)\n",
    "lasso_reg.fit(X_poly, y)\n",
    "lasso_reg.coef_"
   ]
  },
  {
   "cell_type": "code",
   "execution_count": 34,
   "metadata": {},
   "outputs": [
    {
     "data": {
      "text/plain": [
       "[<matplotlib.lines.Line2D at 0x7fbb5355a630>,\n",
       " <matplotlib.lines.Line2D at 0x7fbb53574240>]"
      ]
     },
     "execution_count": 34,
     "metadata": {},
     "output_type": "execute_result"
    },
    {
     "data": {
      "image/png": "[encoded data removed]",
      "text/plain": [
       "<Figure size 432x288 with 1 Axes>"
      ]
     },
     "metadata": {
      "needs_background": "light"
     },
     "output_type": "display_data"
    }
   ],
   "source": [
    "ypred_lasso = lasso_reg.predict(X_poly)\n",
    "plt.plot(X, ypred_lasso, '-rx', X, y,'go')"
   ]
  },
  {
   "cell_type": "markdown",
   "metadata": {},
   "source": [
    "What does PolynomialFeature do? It takes a matrix of $N$ column vectors, $X =[X_1 \\cdots X_N]$, and poduces a matrix with all combinations of the form $[X_1 \\quad X_1^2 \\quad X_1 X_2 \\quad X_2^2 \\cdots]$ up to the provided degree ($X_i^2 $ denotes element-wise squaring, $X_1 X_2$ denotes element-wise multiplication)."
   ]
  },
  {
   "cell_type": "code",
   "execution_count": 35,
   "metadata": {},
   "outputs": [
    {
     "name": "stdout",
     "output_type": "stream",
     "text": [
      "[[1 4]\n",
      " [2 5]\n",
      " [3 6]]\n",
      "[[ 1.  4.  1.  4. 16.]\n",
      " [ 2.  5.  4. 10. 25.]\n",
      " [ 3.  6.  9. 18. 36.]]\n"
     ]
    }
   ],
   "source": [
    "x = np.array([[1,4],[2,5],[3,6]])\n",
    "pf = PolynomialFeatures(degree=2, include_bias=False)\n",
    "x_poly = pf.fit_transform(x)\n",
    "print(x)\n",
    "print(x_poly)"
   ]
  },
  {
   "cell_type": "code",
   "execution_count": null,
   "metadata": {},
   "outputs": [],
   "source": []
  }
 ],
 "metadata": {
  "kernelspec": {
   "display_name": "Python 3",
   "language": "python",
   "name": "python3"
  },
  "language_info": {
   "codemirror_mode": {
    "name": "ipython",
    "version": 3
   },
   "file_extension": ".py",
   "mimetype": "text/x-python",
   "name": "python",
   "nbconvert_exporter": "python",
   "pygments_lexer": "ipython3",
   "version": "3.7.3"
  }
 },
 "nbformat": 4,
 "nbformat_minor": 2
}
