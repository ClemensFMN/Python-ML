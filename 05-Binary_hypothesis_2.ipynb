{
 "cells": [
  {
   "cell_type": "code",
   "execution_count": 34,
   "metadata": {},
   "outputs": [],
   "source": [
    "import numpy as np\n",
    "import matplotlib.pyplot as plt\n",
    "from sklearn.linear_model import LogisticRegression\n",
    "from sklearn.datasets import make_classification"
   ]
  },
  {
   "cell_type": "code",
   "execution_count": 55,
   "metadata": {
    "scrolled": true
   },
   "outputs": [
    {
     "data": {
      "text/plain": [
       "<matplotlib.collections.PathCollection at 0x7f11958d28d0>"
      ]
     },
     "execution_count": 55,
     "metadata": {},
     "output_type": "execute_result"
    },
    {
     "data": {
      "image/png": "[encoded data removed]",
      "text/plain": [
       "<Figure size 432x288 with 1 Axes>"
      ]
     },
     "metadata": {
      "needs_background": "light"
     },
     "output_type": "display_data"
    }
   ],
   "source": [
    "X1, Y1 = make_classification(n_samples=20, n_features=2, n_redundant=0, n_informative=1,\n",
    "                             n_clusters_per_class=1)\n",
    "plt.scatter(X1[:, 0], X1[:, 1], marker='o', c=Y1, s=25, edgecolor='k')"
   ]
  },
  {
   "cell_type": "code",
   "execution_count": 56,
   "metadata": {},
   "outputs": [
    {
     "data": {
      "text/plain": [
       "LogisticRegression(C=1.0, class_weight=None, dual=False, fit_intercept=True,\n",
       "          intercept_scaling=1, max_iter=100, multi_class='warn',\n",
       "          n_jobs=None, penalty='l2', random_state=None, solver='lbfgs',\n",
       "          tol=0.0001, verbose=0, warm_start=False)"
      ]
     },
     "execution_count": 56,
     "metadata": {},
     "output_type": "execute_result"
    }
   ],
   "source": [
    "log_reg = LogisticRegression(solver='lbfgs')\n",
    "log_reg.fit(X1,Y1)"
   ]
  },
  {
   "cell_type": "code",
   "execution_count": 57,
   "metadata": {},
   "outputs": [
    {
     "data": {
      "text/plain": [
       "<matplotlib.collections.PathCollection at 0x7f119599d860>"
      ]
     },
     "execution_count": 57,
     "metadata": {},
     "output_type": "execute_result"
    },
    {
     "data": {
      "image/png": "[encoded data removed]",
      "text/plain": [
       "<Figure size 432x288 with 1 Axes>"
      ]
     },
     "metadata": {
      "needs_background": "light"
     },
     "output_type": "display_data"
    }
   ],
   "source": [
    "x0, x1 = np.meshgrid(\n",
    "        np.linspace(-3, 3, 500).reshape(-1, 1),\n",
    "        np.linspace(-3, 3, 200).reshape(-1, 1),\n",
    "    )\n",
    "X_new = np.c_[x0.ravel(), x1.ravel()]\n",
    "y_proba = log_reg.predict_proba(X_new)\n",
    "\n",
    "zz = y_proba[:, 1].reshape(x0.shape)\n",
    "contour = plt.contour(x0, x1, zz, cmap=plt.cm.brg, levels=[0.5])\n",
    "plt.scatter(X1[:, 0], X1[:, 1], marker='o', c=Y1, s=25, edgecolor='k')"
   ]
  },
  {
   "cell_type": "code",
   "execution_count": 58,
   "metadata": {},
   "outputs": [
    {
     "name": "stdout",
     "output_type": "stream",
     "text": [
      "[ 0.96662485 -0.10986366]\n",
      "[ 1.20549479 -1.86682849]\n"
     ]
    },
    {
     "data": {
      "text/plain": [
       "2"
      ]
     },
     "execution_count": 58,
     "metadata": {},
     "output_type": "execute_result"
    }
   ],
   "source": [
    "wrong_classification = 0\n",
    "for i in range(len(X1)):\n",
    "    xval = X1[i]\n",
    "    res = log_reg.predict([xval])[0]\n",
    "    truth = Y1[i]\n",
    "    if(res != truth):\n",
    "        print(xval)\n",
    "        wrong_classification += 1\n",
    "wrong_classification\n",
    "    "
   ]
  },
  {
   "cell_type": "code",
   "execution_count": 40,
   "metadata": {},
   "outputs": [
    {
     "data": {
      "text/plain": [
       "array([[ 0.61175439, -2.64612449],\n",
       "       [-1.05749143, -0.19435754],\n",
       "       [ 0.67244953, -0.56696558],\n",
       "       [-1.20055419,  1.28212554],\n",
       "       [ 0.61058677, -0.68711016],\n",
       "       [ 1.53049431,  1.64797609],\n",
       "       [-1.17935532, -0.2756461 ],\n",
       "       [ 1.88454765, -0.98190339],\n",
       "       [-0.94179424, -0.01856128],\n",
       "       [ 1.40835442,  0.34228067],\n",
       "       [-1.00337988,  1.08474099],\n",
       "       [-0.98662231,  1.23192663],\n",
       "       [-0.90764935,  0.05862752],\n",
       "       [-0.69628661, -1.26904472],\n",
       "       [-0.94765721,  0.76230308],\n",
       "       [-1.32564636, -0.4839139 ],\n",
       "       [-1.04036319,  2.01876102],\n",
       "       [-0.56734338,  0.4404811 ],\n",
       "       [ 1.10490056, -0.183114  ],\n",
       "       [ 1.29880158,  0.49408387],\n",
       "       [ 0.36743726, -0.05699303],\n",
       "       [-0.97349106, -0.91579648],\n",
       "       [-0.98729766, -0.95070953],\n",
       "       [ 0.36352488,  0.49944596],\n",
       "       [-1.00698026, -0.49343494],\n",
       "       [ 0.54256994, -0.98215423],\n",
       "       [-1.0299491 ,  0.74319588],\n",
       "       [-1.2261904 ,  1.47747156],\n",
       "       [-1.29763055,  0.20068953],\n",
       "       [ 0.90102608,  0.28146142],\n",
       "       [-0.92507277, -1.06384446],\n",
       "       [-0.76334676,  0.76353497],\n",
       "       [ 1.12576914, -0.18532612],\n",
       "       [-1.00811495,  0.89000231],\n",
       "       [ 1.69545142, -0.37761738],\n",
       "       [-0.86159379, -1.63493089],\n",
       "       [ 0.34801707,  0.39578347],\n",
       "       [ 1.72428962,  0.13665204],\n",
       "       [-1.08700498,  0.42094957],\n",
       "       [-0.95701587,  0.1943595 ],\n",
       "       [-1.1260229 , -1.43864927],\n",
       "       [ 0.7911431 , -0.1243529 ],\n",
       "       [-1.21068847,  0.90451473],\n",
       "       [-1.31289736, -0.34283249],\n",
       "       [-1.26159571,  0.33290222],\n",
       "       [ 1.10549208, -0.6240558 ],\n",
       "       [ 1.23282486, -0.8583917 ],\n",
       "       [-1.25057081, -0.46782486],\n",
       "       [ 0.56880853,  0.17681032],\n",
       "       [-0.83136361,  1.64245979],\n",
       "       [-0.92227738,  1.56542675],\n",
       "       [ 1.10093403,  0.8177716 ],\n",
       "       [ 1.11754656,  0.0713857 ],\n",
       "       [-1.06573083,  2.04556885],\n",
       "       [ 1.8544775 , -1.16853972],\n",
       "       [-1.17758664,  1.06312978],\n",
       "       [-0.86448077,  0.50954498],\n",
       "       [ 0.91983064, -1.08096458],\n",
       "       [ 0.10905101, -1.58918112],\n",
       "       [-1.03151268,  0.41082207],\n",
       "       [-0.89422743,  0.44271034],\n",
       "       [ 1.9134198 ,  0.25395947],\n",
       "       [-1.03011457, -1.07356749],\n",
       "       [ 0.13001965,  1.24478344],\n",
       "       [ 0.48642641, -0.6171805 ],\n",
       "       [ 1.29811507,  0.24511307],\n",
       "       [ 1.05652458,  2.13814302],\n",
       "       [-1.28404887,  0.2059045 ],\n",
       "       [ 0.64047364, -0.23389187],\n",
       "       [ 0.276768  ,  1.09445805],\n",
       "       [ 1.41450312, -1.22458744],\n",
       "       [ 0.79623493, -0.77167788],\n",
       "       [ 0.52780481, -1.50296276],\n",
       "       [-0.85189787, -0.33068896],\n",
       "       [-0.91764936, -1.06565175],\n",
       "       [ 1.36250049, -0.47544012],\n",
       "       [ 1.36403533, -0.42470361],\n",
       "       [ 0.65580121,  0.87479084],\n",
       "       [-0.76803122,  0.09555802],\n",
       "       [-1.34362082, -0.20719865],\n",
       "       [ 1.77743233, -1.65146037],\n",
       "       [ 0.02532054,  1.09545008],\n",
       "       [-1.19318256, -1.69675013],\n",
       "       [-0.7849018 ,  0.89855256],\n",
       "       [ 0.86066635,  0.47119601],\n",
       "       [ 0.53907367,  1.46518079],\n",
       "       [ 1.5745382 ,  1.2935956 ],\n",
       "       [-0.90533076,  0.21587817],\n",
       "       [-1.03534085,  0.84357148],\n",
       "       [ 2.05566545,  0.92140302],\n",
       "       [-1.24109302, -0.93949224],\n",
       "       [ 0.55170321, -1.1647801 ],\n",
       "       [-0.04572518, -0.79117278],\n",
       "       [-0.89264674,  0.48798001],\n",
       "       [ 2.01126477, -1.38477554],\n",
       "       [ 0.46623816,  2.37866007],\n",
       "       [-0.72267617,  0.56450358],\n",
       "       [ 0.38651014,  1.3839069 ],\n",
       "       [ 0.87030279, -1.58505614],\n",
       "       [-0.97118543,  0.10690877]])"
      ]
     },
     "execution_count": 40,
     "metadata": {},
     "output_type": "execute_result"
    }
   ],
   "source": [
    "X1"
   ]
  }
 ],
 "metadata": {
  "kernelspec": {
   "display_name": "Python 3",
   "language": "python",
   "name": "python3"
  },
  "language_info": {
   "codemirror_mode": {
    "name": "ipython",
    "version": 3
   },
   "file_extension": ".py",
   "mimetype": "text/x-python",
   "name": "python",
   "nbconvert_exporter": "python",
   "pygments_lexer": "ipython3",
   "version": "3.7.3"
  }
 },
 "nbformat": 4,
 "nbformat_minor": 2
}
